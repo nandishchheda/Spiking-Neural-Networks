{
 "cells": [
  {
   "cell_type": "code",
   "execution_count": 1,
   "metadata": {},
   "outputs": [],
   "source": [
    "import numpy as np"
   ]
  },
  {
   "cell_type": "code",
   "execution_count": 2,
   "metadata": {},
   "outputs": [
    {
     "name": "stdout",
     "output_type": "stream",
     "text": [
      "[[0 0 1 1 0 0 1 1]\n",
      " [0 1 0 1 0 1 0 1]\n",
      " [0 0 0 0 1 1 1 1]]\n",
      "[[1 0 0 1 0 1 1 0]]\n"
     ]
    }
   ],
   "source": [
    "X = np.zeros((3,8)).astype('int32')\n",
    "Y = np.zeros((1,8)).astype('int32')\n",
    "Xtest = np.zeros((3,8)).astype('int32')\n",
    "Ytest = np.zeros((1,8)).astype('int32')\n",
    "for i in range(8):\n",
    "    X[0,i] = i%2\n",
    "    X[1,i] = (i//2)%2\n",
    "    X[2,i] = i//4\n",
    "    Y[0,i] = X[0,i]^X[1,i] if X[2,i]==1 else 1 - X[0,i]^X[1,i]\n",
    "    \n",
    "    Xtest[1,i] = i%2\n",
    "    Xtest[0,i] = (i//2)%2\n",
    "    Xtest[2,i] = i//4\n",
    "    Ytest[0,i] = Xtest[0,i]^Xtest[1,i] if Xtest[2,i]==1 else 1 - Xtest[0,i]^Xtest[1,i]     #Y and Ytest are same\n",
    "        \n",
    "print(Xtest)\n",
    "print(Ytest)"
   ]
  },
  {
   "cell_type": "code",
   "execution_count": 3,
   "metadata": {},
   "outputs": [],
   "source": [
    "#model : (input) 3 neurons -> 5 neurons -> 1 neuron (output)\n",
    "\n",
    "layer_dims = [3,5,1]\n",
    "np.random.seed(0)\n",
    "W1 = np.random.randn(layer_dims[1],layer_dims[0])\n",
    "b1 = np.zeros((layer_dims[1],1))\n",
    "W2 = np.random.randn(layer_dims[2],layer_dims[1])\n",
    "b2 = np.zeros((layer_dims[2],1))"
   ]
  },
  {
   "cell_type": "code",
   "execution_count": 4,
   "metadata": {},
   "outputs": [],
   "source": [
    "def sigmoid(x):\n",
    "    return 1/(1+np.exp(-x))"
   ]
  },
  {
   "cell_type": "code",
   "execution_count": 5,
   "metadata": {},
   "outputs": [],
   "source": [
    "def forward_propagation(X):\n",
    "    #forward Propagation\n",
    "    Z1 = np.dot(W1,X)+b1\n",
    "    A1 = np.tanh(Z1)\n",
    "    Z2 = np.dot(W2,A1) + b2\n",
    "    A2 = sigmoid(Z2)\n",
    "    return A2,A1"
   ]
  },
  {
   "cell_type": "code",
   "execution_count": 6,
   "metadata": {},
   "outputs": [
    {
     "name": "stdout",
     "output_type": "stream",
     "text": [
      "Cost : 0.8152690993227493 \t accuracy :0.625\n",
      "Cost : 0.6284291439051124 \t accuracy :0.625\n",
      "Cost : 0.6052190164559161 \t accuracy :0.625\n",
      "Cost : 0.5807876644916267 \t accuracy :0.75\n",
      "Cost : 0.5508797119320983 \t accuracy :0.75\n",
      "Cost : 0.509172923782026 \t accuracy :0.75\n",
      "Cost : 0.4502147657601735 \t accuracy :0.75\n",
      "Cost : 0.38378403443125936 \t accuracy :0.75\n",
      "Cost : 0.3283097401981411 \t accuracy :0.75\n",
      "Cost : 0.2895073532654881 \t accuracy :0.75\n",
      "Cost : 0.263520255851838 \t accuracy :0.75\n",
      "Cost : 0.2457901404532223 \t accuracy :0.75\n",
      "Cost : 0.23325579830512183 \t accuracy :0.75\n",
      "Cost : 0.22406792259258065 \t accuracy :0.75\n",
      "Cost : 0.217111908086852 \t accuracy :0.75\n",
      "Cost : 0.2116976209931093 \t accuracy :0.75\n",
      "Cost : 0.20738299739361124 \t accuracy :0.75\n",
      "Cost : 0.20387518133847682 \t accuracy :0.75\n",
      "Cost : 0.2009740423070695 \t accuracy :0.75\n",
      "Cost : 0.1985389437460171 \t accuracy :0.75\n",
      "Cost : 0.19646856844550437 \t accuracy :0.75\n",
      "Cost : 0.19468829277415273 \t accuracy :0.75\n",
      "Cost : 0.1931420577907435 \t accuracy :0.75\n",
      "Cost : 0.1917869970762493 \t accuracy :0.75\n",
      "Cost : 0.1905898001306972 \t accuracy :0.75\n",
      "Cost : 0.18952419521747235 \t accuracy :0.75\n",
      "Cost : 0.18856916986497102 \t accuracy :0.75\n",
      "Cost : 0.1877076861012102 \t accuracy :0.75\n",
      "Cost : 0.18692573133536375 \t accuracy :0.75\n",
      "Cost : 0.18621159667230863 \t accuracy :0.75\n",
      "Cost : 0.18555530419742344 \t accuracy :0.75\n",
      "Cost : 0.18494811877838696 \t accuracy :0.75\n",
      "Cost : 0.18438207781049434 \t accuracy :0.75\n",
      "Cost : 0.18384944460647046 \t accuracy :0.75\n",
      "Cost : 0.1833419057627383 \t accuracy :0.75\n",
      "Cost : 0.18284908636315964 \t accuracy :0.75\n",
      "Cost : 0.182355176121605 \t accuracy :0.75\n",
      "Cost : 0.1818295273913354 \t accuracy :0.75\n",
      "Cost : 0.1811928270426822 \t accuracy :0.75\n",
      "Cost : 0.18013457551979128 \t accuracy :0.875\n",
      "Cost : 0.17577831923248094 \t accuracy :1.0\n",
      "Cost : 0.13869666277835713 \t accuracy :1.0\n",
      "Cost : 0.10459799926181894 \t accuracy :1.0\n",
      "Cost : 0.07765439322284959 \t accuracy :1.0\n",
      "Cost : 0.05983133439738797 \t accuracy :1.0\n",
      "Cost : 0.048445701663332785 \t accuracy :1.0\n",
      "Cost : 0.04089408897969417 \t accuracy :1.0\n",
      "Cost : 0.03558918007420275 \t accuracy :1.0\n",
      "Cost : 0.03165139520986103 \t accuracy :1.0\n",
      "Cost : 0.028591776994179075 \t accuracy :1.0\n"
     ]
    }
   ],
   "source": [
    "#Training\n",
    "epoch = 5000\n",
    "m=8\n",
    "lr = 0.1\n",
    "for i in range(epoch):\n",
    "    \n",
    "    A2,A1 = forward_propagation(X)\n",
    "    \n",
    "    #compute cost\n",
    "    cost = (np.dot(Y,np.log(A2.T))+np.dot(1-Y,np.log(1-A2.T))) * (-1)/m\n",
    "    cost = cost.squeeze()\n",
    "    \n",
    "    #backward propagation\n",
    "    dZ2 = A2 - Y                                 #because sigmoid\n",
    "    dW2 = np.dot(dZ2,A1.T)/m\n",
    "    db2 = np.sum(dZ2, axis=1, keepdims=True)\n",
    "    \n",
    "    dZ1 = np.dot(W2.T,dZ2)*(1-np.square(A1))     #because tanh\n",
    "    dW1 = np.dot(dZ1,X.T)/m\n",
    "    db1 = np.sum(dZ1,axis=1,keepdims=True)\n",
    "    \n",
    "    #update parameters\n",
    "    W2 = W2 - lr*dW2\n",
    "    b2 = b2 - lr*db2\n",
    "    W1 = W1 - lr*dW1\n",
    "    b1 = b1 - lr*db1\n",
    "    \n",
    "    if i%100==0:\n",
    "        correct=0\n",
    "        total = m\n",
    "        preds = np.floor(A2+0.5)\n",
    "        correct = (preds==Y).sum()\n",
    "        accuracy = correct/m\n",
    "        print(\"Cost : {} \\t accuracy :{}\".format(cost,accuracy))\n",
    "    "
   ]
  },
  {
   "cell_type": "code",
   "execution_count": 7,
   "metadata": {},
   "outputs": [
    {
     "name": "stdout",
     "output_type": "stream",
     "text": [
      "Cost : 0.026150361479243926 \t accuracy :1.0\n"
     ]
    }
   ],
   "source": [
    "#test\n",
    "A2test,_ = forward_propagation(Xtest)\n",
    "predictions = np.floor(A2test+0.5)\n",
    "correct = (predictions==Ytest).sum()\n",
    "accuracy = correct/8\n",
    "print(\"Cost : {} \\t accuracy :{}\".format(cost,accuracy))"
   ]
  },
  {
   "cell_type": "code",
   "execution_count": null,
   "metadata": {},
   "outputs": [],
   "source": []
  }
 ],
 "metadata": {
  "kernelspec": {
   "display_name": "Python 3",
   "language": "python",
   "name": "python3"
  },
  "language_info": {
   "codemirror_mode": {
    "name": "ipython",
    "version": 3
   },
   "file_extension": ".py",
   "mimetype": "text/x-python",
   "name": "python",
   "nbconvert_exporter": "python",
   "pygments_lexer": "ipython3",
   "version": "3.7.1"
  }
 },
 "nbformat": 4,
 "nbformat_minor": 2
}
