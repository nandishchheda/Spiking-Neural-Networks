{
 "cells": [
  {
   "cell_type": "code",
   "execution_count": 1,
   "metadata": {},
   "outputs": [],
   "source": [
    "import numpy as np\n",
    "import matplotlib.pyplot as plt"
   ]
  },
  {
   "cell_type": "code",
   "execution_count": 2,
   "metadata": {},
   "outputs": [
    {
     "name": "stdout",
     "output_type": "stream",
     "text": [
      "[[0 0 1 1 0 0 1 1]\n",
      " [0 1 0 1 0 1 0 1]\n",
      " [0 0 0 0 1 1 1 1]] [[1 0 0 1 0 1 1 0]]\n"
     ]
    }
   ],
   "source": [
    "X = [[0,0,0],\n",
    "    [0,1,0],\n",
    "    [1,0,0],\n",
    "    [1,1,0],\n",
    "    [0,0,1],\n",
    "    [0,1,1],\n",
    "    [1,0,1],\n",
    "    [1,1,1]]\n",
    "X = np.array(X).T\n",
    "Y = np.array([[1, 0, 0, 1, 0, 1, 1, 0]])\n",
    "print(X,Y)"
   ]
  },
  {
   "cell_type": "code",
   "execution_count": 3,
   "metadata": {},
   "outputs": [],
   "source": [
    "#model : (input) 3 neurons -> 5 neurons -> 1 neuron (output)\n",
    "\n",
    "layer_dims = [3,5,1]\n",
    "np.random.seed(0)\n",
    "W1 = np.random.randn(layer_dims[1],layer_dims[0])\n",
    "b1 = np.zeros((layer_dims[1],1))\n",
    "W2 = np.random.randn(layer_dims[2],layer_dims[1])\n",
    "b2 = np.zeros((layer_dims[2],1))"
   ]
  },
  {
   "cell_type": "code",
   "execution_count": 4,
   "metadata": {},
   "outputs": [],
   "source": [
    "def sigmoid(x):\n",
    "    return 1/(1+np.exp(-x))"
   ]
  },
  {
   "cell_type": "code",
   "execution_count": 5,
   "metadata": {},
   "outputs": [],
   "source": [
    "def forward_propagation(X):\n",
    "    #forward Propagation\n",
    "    Z1 = np.dot(W1,X) + b1\n",
    "    A1 = np.tanh(Z1)\n",
    "    Z2 = np.dot(W2,A1) + b2\n",
    "    A2 = sigmoid(Z2)\n",
    "    return A2,A1"
   ]
  },
  {
   "cell_type": "code",
   "execution_count": 6,
   "metadata": {},
   "outputs": [
    {
     "name": "stdout",
     "output_type": "stream",
     "text": [
      "Cost : 0.8152690993227492 \t accuracy :0.625\n",
      "Cost : 0.6284291439051125 \t accuracy :0.625\n",
      "Cost : 0.6052190164559162 \t accuracy :0.625\n",
      "Cost : 0.5807876644916267 \t accuracy :0.75\n",
      "Cost : 0.5508797119320984 \t accuracy :0.75\n",
      "Cost : 0.5091729237820262 \t accuracy :0.75\n",
      "Cost : 0.4502147657601738 \t accuracy :0.75\n",
      "Cost : 0.3837840344312594 \t accuracy :0.75\n",
      "Cost : 0.32830974019814096 \t accuracy :0.75\n",
      "Cost : 0.28950735326548804 \t accuracy :0.75\n",
      "Cost : 0.263520255851838 \t accuracy :0.75\n",
      "Cost : 0.24579014045322234 \t accuracy :0.75\n",
      "Cost : 0.23325579830512183 \t accuracy :0.75\n",
      "Cost : 0.22406792259258068 \t accuracy :0.75\n",
      "Cost : 0.21711190808685193 \t accuracy :0.75\n",
      "Cost : 0.2116976209931093 \t accuracy :0.75\n",
      "Cost : 0.2073829973936112 \t accuracy :0.75\n",
      "Cost : 0.20387518133847682 \t accuracy :0.75\n",
      "Cost : 0.2009740423070695 \t accuracy :0.75\n",
      "Cost : 0.19853894374601716 \t accuracy :0.75\n",
      "Cost : 0.1964685684455043 \t accuracy :0.75\n",
      "Cost : 0.19468829277415275 \t accuracy :0.75\n",
      "Cost : 0.19314205779074353 \t accuracy :0.75\n",
      "Cost : 0.1917869970762493 \t accuracy :0.75\n",
      "Cost : 0.19058980013069715 \t accuracy :0.75\n",
      "Cost : 0.18952419521747244 \t accuracy :0.75\n",
      "Cost : 0.18856916986497096 \t accuracy :0.75\n",
      "Cost : 0.18770768610121016 \t accuracy :0.75\n",
      "Cost : 0.18692573133536375 \t accuracy :0.75\n",
      "Cost : 0.18621159667230858 \t accuracy :0.75\n",
      "Cost : 0.18555530419742344 \t accuracy :0.75\n",
      "Cost : 0.18494811877838702 \t accuracy :0.75\n",
      "Cost : 0.18438207781049437 \t accuracy :0.75\n",
      "Cost : 0.18384944460647046 \t accuracy :0.75\n",
      "Cost : 0.1833419057627383 \t accuracy :0.75\n",
      "Cost : 0.18284908636315964 \t accuracy :0.75\n",
      "Cost : 0.18235517612160498 \t accuracy :0.75\n",
      "Cost : 0.18182952739133534 \t accuracy :0.75\n",
      "Cost : 0.18119282704268214 \t accuracy :0.75\n",
      "Cost : 0.18013457551979098 \t accuracy :0.875\n",
      "Cost : 0.17577831923247828 \t accuracy :1.0\n",
      "Cost : 0.138696662778349 \t accuracy :1.0\n",
      "Cost : 0.10459799926181179 \t accuracy :1.0\n",
      "Cost : 0.07765439322284455 \t accuracy :1.0\n",
      "Cost : 0.05983133439738478 \t accuracy :1.0\n",
      "Cost : 0.04844570166333076 \t accuracy :1.0\n",
      "Cost : 0.04089408897969283 \t accuracy :1.0\n",
      "Cost : 0.03558918007420171 \t accuracy :1.0\n",
      "Cost : 0.03165139520986028 \t accuracy :1.0\n",
      "Cost : 0.028591776994178426 \t accuracy :1.0\n"
     ]
    }
   ],
   "source": [
    "#Training\n",
    "epoch = 5000\n",
    "m = 8\n",
    "lr = 0.1\n",
    "costs = []\n",
    "for i in range(epoch):\n",
    "    \n",
    "    A2,A1 = forward_propagation(X)\n",
    "    \n",
    "    #compute cost\n",
    "    cost = (np.dot(Y,np.log(A2.T))+np.dot(1-Y,np.log(1-A2.T))) * (-1)/m\n",
    "    cost = cost.squeeze()\n",
    "    costs.append(cost)\n",
    "    #backward propagation\n",
    "    dZ2 = A2 - Y                                 #because sigmoid\n",
    "    dW2 = np.dot(dZ2,A1.T)/m\n",
    "    db2 = np.sum(dZ2, axis=1, keepdims=True)\n",
    "    \n",
    "    dZ1 = np.dot(W2.T,dZ2)*(1-np.square(A1))     #because tanh\n",
    "    dW1 = np.dot(dZ1,X.T)/m\n",
    "    db1 = np.sum(dZ1, axis=1, keepdims=True)\n",
    "    \n",
    "    #update parameters\n",
    "    W2 = W2 - lr*dW2\n",
    "    b2 = b2 - lr*db2\n",
    "    W1 = W1 - lr*dW1\n",
    "    b1 = b1 - lr*db1\n",
    "    \n",
    "    if i%100==0:\n",
    "        correct=0\n",
    "        total = m\n",
    "        preds = np.floor(A2+0.5)\n",
    "        correct = (preds==Y).sum()\n",
    "        accuracy = correct/m\n",
    "        print(\"Cost : {} \\t accuracy :{}\".format(cost,accuracy))\n",
    "\n",
    "        "
   ]
  },
  {
   "cell_type": "code",
   "execution_count": 7,
   "metadata": {},
   "outputs": [
    {
     "name": "stdout",
     "output_type": "stream",
     "text": [
      "Predictions:  [[0.99680172 0.01472932 0.01707495 0.92158035 0.00419436 0.99861588\n",
      "  0.98307716 0.06708247]]\n",
      "labels:  [[1 0 0 1 0 1 1 0]]\n"
     ]
    },
    {
     "data": {
      "text/plain": [
       "[<matplotlib.lines.Line2D at 0x1e8be206400>]"
      ]
     },
     "execution_count": 7,
     "metadata": {},
     "output_type": "execute_result"
    },
    {
     "data": {
      "image/png": "[encoded data removed]",
      "text/plain": [
       "<Figure size 432x288 with 1 Axes>"
      ]
     },
     "metadata": {
      "needs_background": "light"
     },
     "output_type": "display_data"
    }
   ],
   "source": [
    "preds, _ = forward_propagation(X)\n",
    "print(\"Predictions: \", preds)\n",
    "print(\"labels: \", Y)\n",
    "plt.plot(costs)"
   ]
  }
 ],
 "metadata": {
  "kernelspec": {
   "display_name": "Python 3",
   "language": "python",
   "name": "python3"
  },
  "language_info": {
   "codemirror_mode": {
    "name": "ipython",
    "version": 3
   },
   "file_extension": ".py",
   "mimetype": "text/x-python",
   "name": "python",
   "nbconvert_exporter": "python",
   "pygments_lexer": "ipython3",
   "version": "3.7.1"
  }
 },
 "nbformat": 4,
 "nbformat_minor": 2
}
